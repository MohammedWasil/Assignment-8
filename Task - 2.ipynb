{
 "cells": [
  {
   "cell_type": "markdown",
   "id": "ae5cf9a2",
   "metadata": {},
   "source": [
    "##### Ques.1- You are writing code for a company. The requirement of the company is that you create a python function that will check whether the password entered by the user is correct or not. The function shouldtake the password as input and return the string “Valid Password” if the entered password follows the below-given password guidelines else it should return “Invalid Password”.\n",
    "###### Note: 1. The Password should contain at least two uppercase letters and at least two lowercase letters.\n",
    "###### 2. The Password should contain at least a number and three special characters.\n",
    "###### 3. The length of the password should be 10 characters long."
   ]
  },
  {
   "cell_type": "code",
   "execution_count": 1,
   "id": "3f231a8f",
   "metadata": {},
   "outputs": [
    {
     "name": "stdout",
     "output_type": "stream",
     "text": [
      "Enter the password: Ajh@rA1i&#\n",
      "Valid Password\n"
     ]
    }
   ],
   "source": [
    "def check(password):\n",
    "    if len(password)!=10:\n",
    "        return \"Invalid Password\"\n",
    "    upper_count,lower_count,digit_count,char_count=0,0,0,0\n",
    "    for i in password:\n",
    "        if i .isupper():\n",
    "            upper_count+=1\n",
    "        elif i .islower():\n",
    "            lower_count+=1\n",
    "        elif i .isdigit():\n",
    "            digit_count+=1\n",
    "        else:\n",
    "            char_count+=1\n",
    "    if upper_count<2 or lower_count<2 or digit_count<1 or char_count<3:\n",
    "        return \"Invalid Password\"\n",
    "    return \"Valid Password\"\n",
    "password=input(\"Enter the password: \")\n",
    "x=check(password)\n",
    "print(x)"
   ]
  },
  {
   "cell_type": "code",
   "execution_count": null,
   "id": "3d2551bb",
   "metadata": {},
   "outputs": [],
   "source": []
  },
  {
   "cell_type": "markdown",
   "id": "af68fb3c",
   "metadata": {},
   "source": [
    "##### Ques.2- Solve the below-given questions using at least one of the following:\n",
    "###### 1. Lambda function\n",
    "###### 2. Filter function\n",
    "###### 3. Map function\n",
    "###### 4. List Comprehension\n"
   ]
  },
  {
   "cell_type": "markdown",
   "id": "4a169f6b",
   "metadata": {},
   "source": [
    "######  Check if the string starts with a particular letter."
   ]
  },
  {
   "cell_type": "code",
   "execution_count": 2,
   "id": "32252ba2",
   "metadata": {},
   "outputs": [
    {
     "name": "stdout",
     "output_type": "stream",
     "text": [
      "True\n"
     ]
    }
   ],
   "source": [
    "string=lambda x: True if x.startswith(\"A\") else False \n",
    "print(string(\"Ajhar Ali Welcome to PW Skill Data Science Master Course\"))"
   ]
  },
  {
   "cell_type": "code",
   "execution_count": null,
   "id": "dee7ea30",
   "metadata": {},
   "outputs": [],
   "source": []
  },
  {
   "cell_type": "markdown",
   "id": "f6ca2382",
   "metadata": {},
   "source": [
    "###### Check if the string is numeric."
   ]
  },
  {
   "cell_type": "code",
   "execution_count": 3,
   "id": "d0ff6394",
   "metadata": {},
   "outputs": [
    {
     "name": "stdout",
     "output_type": "stream",
     "text": [
      "False\n"
     ]
    }
   ],
   "source": [
    "string=lambda x: True if x.isnumeric() else False \n",
    "print(string(\"Ajhar Ali Welcome to PW Skill Data Science Master Course\"))"
   ]
  },
  {
   "cell_type": "code",
   "execution_count": null,
   "id": "28665621",
   "metadata": {},
   "outputs": [],
   "source": []
  },
  {
   "cell_type": "markdown",
   "id": "1d7777c3",
   "metadata": {},
   "source": [
    "###### Sort a list of tuples having fruit names and their quantity. [(\"mango\",99),(\"orange\",80), (\"grapes\", 1000)]."
   ]
  },
  {
   "cell_type": "code",
   "execution_count": 4,
   "id": "094c0946",
   "metadata": {},
   "outputs": [
    {
     "name": "stdout",
     "output_type": "stream",
     "text": [
      "[('orange', 80), ('mango', 99), ('grapes', 1000)]\n"
     ]
    }
   ],
   "source": [
    "t=[(\"mango\",99),(\"orange\",80), (\"grapes\", 1000)]\n",
    "t.sort(key=lambda x:x[1])\n",
    "print(t)"
   ]
  },
  {
   "cell_type": "code",
   "execution_count": null,
   "id": "552fe5ec",
   "metadata": {},
   "outputs": [],
   "source": []
  },
  {
   "cell_type": "markdown",
   "id": "3fc7bc78",
   "metadata": {},
   "source": [
    "###### Find the squares of numbers from 1 to 10"
   ]
  },
  {
   "cell_type": "code",
   "execution_count": 5,
   "id": "690cb2e5",
   "metadata": {},
   "outputs": [
    {
     "name": "stdout",
     "output_type": "stream",
     "text": [
      "[1, 8, 27, 64, 125, 216, 343, 512, 729, 1000]\n"
     ]
    }
   ],
   "source": [
    "l=[1,2,3,4,5,6,7,8,9,10]\n",
    "print(list(map(lambda x:x*x*x,l)))"
   ]
  },
  {
   "cell_type": "code",
   "execution_count": null,
   "id": "243e766e",
   "metadata": {},
   "outputs": [],
   "source": []
  },
  {
   "cell_type": "markdown",
   "id": "cff87c84",
   "metadata": {},
   "source": [
    " ###### Check if a given number is even.\n"
   ]
  },
  {
   "cell_type": "code",
   "execution_count": 6,
   "id": "c2675aab",
   "metadata": {},
   "outputs": [
    {
     "name": "stdout",
     "output_type": "stream",
     "text": [
      "False\n"
     ]
    }
   ],
   "source": [
    "given_number=lambda x: True if x%2==0 else False \n",
    "print(given_number(25))"
   ]
  },
  {
   "cell_type": "code",
   "execution_count": null,
   "id": "2e844844",
   "metadata": {},
   "outputs": [],
   "source": []
  },
  {
   "cell_type": "markdown",
   "id": "695317f3",
   "metadata": {},
   "source": [
    "###### Filter odd numbers from the given list. [1,2,3,4,5,6,7,8,9,10]"
   ]
  },
  {
   "cell_type": "code",
   "execution_count": 7,
   "id": "93337a26",
   "metadata": {},
   "outputs": [
    {
     "data": {
      "text/plain": [
       "[1, 3, 5, 7, 9]"
      ]
     },
     "execution_count": 7,
     "metadata": {},
     "output_type": "execute_result"
    }
   ],
   "source": [
    "l=[1,2,3,4,5,6,7,8,9,10]\n",
    "list(filter(lambda x: x%2!=0 , l))"
   ]
  },
  {
   "cell_type": "code",
   "execution_count": null,
   "id": "b2a49123",
   "metadata": {},
   "outputs": [],
   "source": []
  },
  {
   "cell_type": "markdown",
   "id": "3a602326",
   "metadata": {},
   "source": [
    "###### Sort a list of integers into positive and negative integers lists. [1,2,3,4,5,6,-1,-2,-3,-4,-5,0]"
   ]
  },
  {
   "cell_type": "code",
   "execution_count": 8,
   "id": "3ff253df",
   "metadata": {},
   "outputs": [
    {
     "name": "stdout",
     "output_type": "stream",
     "text": [
      "List of negative numbers [-1, -2, -3, -4, -5]\n",
      "List of positive numbers [1, 2, 3, 4, 5, 6, 0]\n"
     ]
    }
   ],
   "source": [
    "list1=[1,2,3,4,5,6,-1,-2,-3,-4,-5,0]\n",
    "negative_number=list(filter(lambda x : x<0,list1))\n",
    "positive_number=list(filter(lambda x : x>=0,list1))\n",
    "print(\"List of negative numbers\",negative_number)\n",
    "print(\"List of positive numbers\",positive_number)"
   ]
  },
  {
   "cell_type": "code",
   "execution_count": null,
   "id": "2ab4185e",
   "metadata": {},
   "outputs": [],
   "source": []
  }
 ],
 "metadata": {
  "kernelspec": {
   "display_name": "Python 3 (ipykernel)",
   "language": "python",
   "name": "python3"
  },
  "language_info": {
   "codemirror_mode": {
    "name": "ipython",
    "version": 3
   },
   "file_extension": ".py",
   "mimetype": "text/x-python",
   "name": "python",
   "nbconvert_exporter": "python",
   "pygments_lexer": "ipython3",
   "version": "3.9.13"
  }
 },
 "nbformat": 4,
 "nbformat_minor": 5
}
